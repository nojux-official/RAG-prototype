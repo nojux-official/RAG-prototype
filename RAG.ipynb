{
 "cells": [
  {
   "cell_type": "code",
   "id": "initial_id",
   "metadata": {
    "collapsed": true,
    "ExecuteTime": {
     "end_time": "2024-12-25T14:42:59.758772Z",
     "start_time": "2024-12-25T14:42:59.152790Z"
    }
   },
   "source": [
    "from ollama import Client\n",
    "from dotenv import load_dotenv\n",
    "import os"
   ],
   "outputs": [],
   "execution_count": 1
  },
  {
   "metadata": {
    "ExecuteTime": {
     "end_time": "2024-12-25T14:43:00.048696Z",
     "start_time": "2024-12-25T14:42:59.834851Z"
    }
   },
   "cell_type": "code",
   "source": [
    "\n",
    "# Load environment variables from .env file\n",
    "load_dotenv()\n",
    "\n",
    "# Initialize the ollama client with environment variables\n",
    "client = Client(\n",
    "    host=os.getenv('HOST'),\n",
    ")\n",
    "\n",
    "\n"
   ],
   "id": "fea5c62b0eda8d5a",
   "outputs": [],
   "execution_count": 2
  },
  {
   "metadata": {
    "ExecuteTime": {
     "end_time": "2024-12-25T14:43:01.956969Z",
     "start_time": "2024-12-25T14:43:00.070676Z"
    }
   },
   "cell_type": "code",
   "source": [
    "\n",
    "# Send a message to ollama and get the response\n",
    "response = client.chat(model='llama3.2', messages=[\n",
    "    {\n",
    "        'role': 'user',\n",
    "        'content': 'Why is the sky blue?',\n",
    "    },\n",
    "])\n",
    "\n",
    "# Output the response to the console\n",
    "print(response['message']['content'])"
   ],
   "id": "de0aa4fe93e81e94",
   "outputs": [
    {
     "name": "stdout",
     "output_type": "stream",
     "text": [
      "The sky appears blue because of a phenomenon called Rayleigh scattering, named after the British physicist Lord Rayleigh. When sunlight enters Earth's atmosphere, it encounters tiny molecules of gases such as nitrogen and oxygen.\n",
      "\n",
      "These molecules scatter the light in all directions, but they scatter shorter (blue) wavelengths more than longer (red) wavelengths. This is known as the \"selective scattering\" effect. As a result, the blue light is distributed throughout the atmosphere, giving the sky its blue appearance.\n",
      "\n",
      "However, it's worth noting that the color of the sky can change depending on various factors such as:\n",
      "\n",
      "1. Time of day: During sunrise and sunset, the sky often takes on hues of orange, pink, or red due to scattering by atmospheric particles.\n",
      "2. Atmospheric conditions: Dust, pollution, and water vapor in the air can scatter light differently, altering the color of the sky.\n",
      "3. Altitude and latitude: The angle of the sun's rays and the amount of atmosphere between you and the horizon can affect how blue the sky appears.\n",
      "\n",
      "So while the sky is generally blue due to Rayleigh scattering, its exact shade and appearance can vary depending on the conditions!\n"
     ]
    }
   ],
   "execution_count": 3
  },
  {
   "metadata": {
    "ExecuteTime": {
     "end_time": "2024-12-25T14:43:03.278504Z",
     "start_time": "2024-12-25T14:43:01.977508Z"
    }
   },
   "cell_type": "code",
   "source": [
    "import argparse\n",
    "import os\n",
    "import shutil\n",
    "from langchain_community.document_loaders import PyPDFDirectoryLoader, CSVLoader, TextLoader\n",
    "from langchain.text_splitter import RecursiveCharacterTextSplitter\n",
    "from langchain.schema import Document\n",
    "from langchain_chroma import Chroma\n",
    "from typing import List"
   ],
   "id": "c67ea9758dd5709e",
   "outputs": [
    {
     "name": "stderr",
     "output_type": "stream",
     "text": [
      "D:\\apps\\installed\\anaconda\\envs\\rag12\\Lib\\site-packages\\onnxruntime\\capi\\onnxruntime_validation.py:26: UserWarning: Unsupported Windows version (11). ONNX Runtime supports Windows 10 and above, only.\n",
      "  warnings.warn(\n"
     ]
    }
   ],
   "execution_count": 4
  },
  {
   "metadata": {
    "ExecuteTime": {
     "end_time": "2024-12-25T14:43:03.307343Z",
     "start_time": "2024-12-25T14:43:03.297404Z"
    }
   },
   "cell_type": "code",
   "source": [
    "def load_documents() -> List[Document]:\n",
    "    documents = []\n",
    "    for root, _, files in os.walk(DATA_PATH):\n",
    "        for file in files:\n",
    "            file_path = os.path.join(root, file)\n",
    "            if file.lower().endswith('.pdf'):\n",
    "                loader = PyPDFDirectoryLoader(os.path.dirname(file_path))\n",
    "                documents.extend(loader.load())\n",
    "            elif file.lower().endswith('.csv'):\n",
    "                loader = CSVLoader(file_path)\n",
    "                documents.extend(loader.load())\n",
    "            elif file.lower().endswith('.txt'):\n",
    "                loader = TextLoader(file_path)\n",
    "                documents.extend(loader.load())\n",
    "            else:\n",
    "                print(f\"Unsupported file type: {file}\")\n",
    "    return documents\n",
    "\n",
    "def split_documents(documents: List[Document]) -> List[Document]:\n",
    "    text_splitter = RecursiveCharacterTextSplitter(\n",
    "        chunk_size=800,\n",
    "        chunk_overlap=80,\n",
    "        length_function=len,\n",
    "    )\n",
    "    return text_splitter.split_documents(documents)\n",
    "\n",
    "def add_to_chroma(chunks: List[Document]):\n",
    "    db = Chroma(\n",
    "        persist_directory=CHROMA_PATH, embedding_function=get_embedding_function_llama()\n",
    "    )\n",
    "\n",
    "    chunks_with_ids = calculate_chunk_ids(chunks)\n",
    "\n",
    "    existing_items = db.get(include=[])\n",
    "    existing_ids = set(existing_items[\"ids\"])\n",
    "    print(f\"Number of existing documents in DB: {len(existing_ids)}\")\n",
    "\n",
    "    new_chunks = [chunk for chunk in chunks_with_ids if chunk.metadata[\"id\"] not in existing_ids]\n",
    "\n",
    "    if len(new_chunks):\n",
    "        print(f\"Adding new documents: {len(new_chunks)}\")\n",
    "        new_chunk_ids = [chunk.metadata[\"id\"] for chunk in new_chunks]\n",
    "        try:\n",
    "            db.add_documents(new_chunks, ids=new_chunk_ids)\n",
    "            print(\"Documents added\")\n",
    "        except ValueError as e:\n",
    "            print(f\"Failed to add documents: {e}\")\n",
    "    else:\n",
    "        print(\"No new documents to add\")\n",
    "\n",
    "def calculate_chunk_ids(chunks: List[Document]) -> List[Document]:\n",
    "    last_file_id = None\n",
    "    current_chunk_index = 0\n",
    "\n",
    "    for chunk in chunks:\n",
    "        source = chunk.metadata.get(\"source\")\n",
    "        page = chunk.metadata.get(\"page\", 0)  # Default to 0 for non-PDF files\n",
    "        current_file_id = f\"{source}:{page}\"\n",
    "\n",
    "        if current_file_id == last_file_id:\n",
    "            current_chunk_index += 1\n",
    "        else:\n",
    "            current_chunk_index = 0\n",
    "\n",
    "        chunk_id = f\"{current_file_id}:{current_chunk_index}\"\n",
    "        last_file_id = current_file_id\n",
    "        chunk.metadata[\"id\"] = chunk_id\n",
    "        chunk.metadata[\"file_type\"] = os.path.splitext(source)[1][1:].lower()  # Add file type to metadata\n",
    "\n",
    "    return chunks\n",
    "\n",
    "\n",
    "def clear_database():\n",
    "    if os.path.exists(CHROMA_PATH):\n",
    "        shutil.rmtree(CHROMA_PATH)"
   ],
   "id": "cdd32b73f531e95c",
   "outputs": [],
   "execution_count": 5
  },
  {
   "metadata": {
    "ExecuteTime": {
     "end_time": "2024-12-25T15:24:51.114632Z",
     "start_time": "2024-12-25T15:24:50.834246Z"
    }
   },
   "cell_type": "code",
   "source": [
    "from langchain_community.embeddings.ollama import OllamaEmbeddings\n",
    "\n",
    "client = Client(\n",
    "    host=os.getenv('HOST'),\n",
    ")\n",
    "\n",
    "\n",
    "def get_embedding_function_llama():\n",
    "    embeddings = OllamaEmbeddings(model=\"llama3.2\", base_url = os.getenv('HOST'))\n",
    "    return embeddings\n"
   ],
   "id": "3854a5b86fcc7649",
   "outputs": [],
   "execution_count": 11
  },
  {
   "metadata": {
    "ExecuteTime": {
     "end_time": "2024-12-25T15:25:04.636820Z",
     "start_time": "2024-12-25T15:24:53.656540Z"
    }
   },
   "cell_type": "code",
   "source": [
    "\n",
    "\n",
    "CHROMA_PATH = \"chroma\"\n",
    "DATA_PATH = r\"D:\\projects\\HugginRAG\\data\"\n",
    "\n",
    "# clear_database()\n",
    "\n",
    "documents = load_documents()\n",
    "chunks = split_documents(documents)\n",
    "add_to_chroma(chunks)"
   ],
   "id": "8d720a1d348d10e8",
   "outputs": [
    {
     "name": "stdout",
     "output_type": "stream",
     "text": [
      "Number of existing documents in DB: 0\n",
      "Adding new documents: 31\n",
      "Documents added\n"
     ]
    }
   ],
   "execution_count": 12
  },
  {
   "metadata": {
    "ExecuteTime": {
     "end_time": "2024-12-25T14:43:03.917728Z",
     "start_time": "2024-12-25T14:43:03.915135Z"
    }
   },
   "cell_type": "code",
   "source": "",
   "id": "b9f9a4e2b8f8700c",
   "outputs": [],
   "execution_count": null
  }
 ],
 "metadata": {
  "kernelspec": {
   "display_name": "Python 3",
   "language": "python",
   "name": "python3"
  },
  "language_info": {
   "codemirror_mode": {
    "name": "ipython",
    "version": 2
   },
   "file_extension": ".py",
   "mimetype": "text/x-python",
   "name": "python",
   "nbconvert_exporter": "python",
   "pygments_lexer": "ipython2",
   "version": "2.7.6"
  }
 },
 "nbformat": 4,
 "nbformat_minor": 5
}
